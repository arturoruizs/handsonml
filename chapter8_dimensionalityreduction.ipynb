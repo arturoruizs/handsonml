{
 "metadata": {
  "language_info": {
   "codemirror_mode": {
    "name": "ipython",
    "version": 3
   },
   "file_extension": ".py",
   "mimetype": "text/x-python",
   "name": "python",
   "nbconvert_exporter": "python",
   "pygments_lexer": "ipython3",
   "version": "3.8.5-final"
  },
  "orig_nbformat": 2,
  "kernelspec": {
   "name": "python3",
   "display_name": "Python 3",
   "language": "python"
  }
 },
 "nbformat": 4,
 "nbformat_minor": 2,
 "cells": [
  {
   "source": [
    "# Chapter 8: Dimensionality Reduction"
   ],
   "cell_type": "markdown",
   "metadata": {}
  },
  {
   "source": [
    "## First exercise"
   ],
   "cell_type": "markdown",
   "metadata": {}
  },
  {
   "source": [
    "### Load the MNIST dataset and split it into a training set and a test set (take the first 60,000 instances for training, and the remaining 10,000 for testing)"
   ],
   "cell_type": "markdown",
   "metadata": {}
  },
  {
   "cell_type": "code",
   "execution_count": 2,
   "metadata": {},
   "outputs": [],
   "source": [
    "import numpy as np \n",
    "import matplotlib.pyplot as plt \n",
    "\n",
    "from sklearn.datasets import fetch_openml\n",
    "\n",
    "mnist = fetch_openml('mnist_784', version = 1)\n",
    "X,y = mnist['data'],mnist['target']"
   ]
  },
  {
   "cell_type": "code",
   "execution_count": 7,
   "metadata": {},
   "outputs": [],
   "source": [
    "#Splitting the train and test datasets:\n",
    "X_train,y_train,X_test,y_test = X[:60000],y[:60000],X[60000:],y[60000:]"
   ]
  },
  {
   "source": [
    "### Train a Random Forest classifier on the dataset and time how long it takes, then evaluate the resulting model on the test set"
   ],
   "cell_type": "markdown",
   "metadata": {}
  },
  {
   "cell_type": "code",
   "execution_count": 9,
   "metadata": {},
   "outputs": [
    {
     "output_type": "stream",
     "name": "stdout",
     "text": [
      "Total elapsed time for training: 36.68402886390686 seconds\n"
     ]
    }
   ],
   "source": [
    "from sklearn.ensemble import RandomForestClassifier\n",
    "import time\n",
    "\n",
    "forest_clf = RandomForestClassifier(n_estimators = 100,random_state=50)\n",
    "initial_time = time.time()\n",
    "forest_clf.fit(X_train,y_train)\n",
    "final_time = time.time()\n",
    "\n",
    "print(f'Total elapsed time for training: {final_time-initial_time} seconds')"
   ]
  },
  {
   "cell_type": "code",
   "execution_count": 10,
   "metadata": {},
   "outputs": [
    {
     "output_type": "execute_result",
     "data": {
      "text/plain": [
       "0.9692"
      ]
     },
     "metadata": {},
     "execution_count": 10
    }
   ],
   "source": [
    "#Evaluating the resulting model on the test set\n",
    "from sklearn.metrics import accuracy_score\n",
    "predicted = forest_clf.predict(X_test)\n",
    "\n",
    "accuracy_score(y_test,predicted)"
   ]
  },
  {
   "source": [
    "### Next, use PCA to reduce the dataset’s dimensionality, with an explained variance ratio of 95%."
   ],
   "cell_type": "markdown",
   "metadata": {}
  },
  {
   "cell_type": "code",
   "execution_count": 11,
   "metadata": {},
   "outputs": [
    {
     "output_type": "execute_result",
     "data": {
      "text/plain": [
       "(60000, 154)"
      ]
     },
     "metadata": {},
     "execution_count": 11
    }
   ],
   "source": [
    "from sklearn.decomposition import PCA\n",
    "pca = PCA(n_components=0.95)\n",
    "X_reduced = pca.fit_transform(X_train)\n",
    "np.shape(X_reduced)"
   ]
  },
  {
   "source": [
    "### Train a new Random Forest classifier on the reduced dataset and see how long it takes."
   ],
   "cell_type": "markdown",
   "metadata": {}
  },
  {
   "cell_type": "code",
   "execution_count": 14,
   "metadata": {},
   "outputs": [
    {
     "output_type": "stream",
     "name": "stdout",
     "text": [
      "Total elapsed time for training: 77.80273532867432 seconds\n"
     ]
    }
   ],
   "source": [
    "reduced_forest_clf = RandomForestClassifier(n_estimators=100, random_state=50)\n",
    "\n",
    "initial_time = time.time()\n",
    "reduced_forest_clf.fit(X_reduced,y_train)\n",
    "final_time = time.time()\n",
    "\n",
    "print(f'Total elapsed time for training: {final_time-initial_time} seconds')"
   ]
  },
  {
   "source": [
    "### Next, evaluate the classifier on the test set. How does it compare to the previous classifier?"
   ],
   "cell_type": "markdown",
   "metadata": {}
  },
  {
   "cell_type": "code",
   "execution_count": 16,
   "metadata": {},
   "outputs": [
    {
     "output_type": "execute_result",
     "data": {
      "text/plain": [
       "0.9471"
      ]
     },
     "metadata": {},
     "execution_count": 16
    }
   ],
   "source": [
    "X_test_reduced = pca.transform(X_test)\n",
    "\n",
    "predicted = reduced_forest_clf.predict(X_test_reduced)\n",
    "\n",
    "accuracy_score(y_test,predicted)"
   ]
  },
  {
   "source": [
    "The difference in performance between a random forest classifier trained with the original MNIST dataset and a reduced version is 2.21%"
   ],
   "cell_type": "markdown",
   "metadata": {}
  },
  {
   "cell_type": "code",
   "execution_count": null,
   "metadata": {},
   "outputs": [],
   "source": []
  }
 ]
}