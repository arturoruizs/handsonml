{
 "metadata": {
  "language_info": {
   "codemirror_mode": {
    "name": "ipython",
    "version": 3
   },
   "file_extension": ".py",
   "mimetype": "text/x-python",
   "name": "python",
   "nbconvert_exporter": "python",
   "pygments_lexer": "ipython3",
   "version": "3.8.5-final"
  },
  "orig_nbformat": 2,
  "kernelspec": {
   "name": "python3",
   "display_name": "Python 3"
  }
 },
 "nbformat": 4,
 "nbformat_minor": 2,
 "cells": [
  {
   "source": [
    "## Train and fine-tune a Decision Tree for the moons dataset"
   ],
   "cell_type": "markdown",
   "metadata": {}
  },
  {
   "cell_type": "code",
   "execution_count": 1,
   "metadata": {},
   "outputs": [
    {
     "output_type": "execute_result",
     "data": {
      "text/plain": [
       "(array([[ 0.46654404,  1.22651313],\n",
       "        [ 0.58662884, -0.18575817],\n",
       "        [ 0.7280187 ,  1.0420609 ],\n",
       "        ...,\n",
       "        [-0.17366043,  0.58585676],\n",
       "        [ 0.86602821,  0.25804901],\n",
       "        [-1.82357241, -0.03429702]]),\n",
       " array([0, 1, 0, ..., 0, 0, 0]))"
      ]
     },
     "metadata": {},
     "execution_count": 1
    }
   ],
   "source": [
    "from sklearn.datasets import make_moons\n",
    "\n",
    "moons = make_moons(n_samples = 10000, noise= 0.4)\n",
    "moons"
   ]
  },
  {
   "cell_type": "code",
   "execution_count": 2,
   "metadata": {},
   "outputs": [
    {
     "output_type": "execute_result",
     "data": {
      "text/plain": [
       "array([[ 0.46654404,  1.22651313],\n",
       "       [ 0.58662884, -0.18575817],\n",
       "       [ 0.7280187 ,  1.0420609 ],\n",
       "       ...,\n",
       "       [-0.17366043,  0.58585676],\n",
       "       [ 0.86602821,  0.25804901],\n",
       "       [-1.82357241, -0.03429702]])"
      ]
     },
     "metadata": {},
     "execution_count": 2
    }
   ],
   "source": [
    "moons[0]"
   ]
  },
  {
   "cell_type": "code",
   "execution_count": 3,
   "metadata": {},
   "outputs": [],
   "source": [
    "#Lets split the dataset in test and train datasets\n",
    "from sklearn.model_selection import train_test_split\n",
    "\n",
    "X_train, X_test, y_train, y_test = train_test_split(moons[0], moons[1])\n"
   ]
  },
  {
   "cell_type": "code",
   "execution_count": 5,
   "metadata": {},
   "outputs": [
    {
     "output_type": "execute_result",
     "data": {
      "text/plain": [
       "GridSearchCV(estimator=DecisionTreeClassifier(),\n",
       "             param_grid={'max_leaf_nodes': [2, 5, 7, 10]})"
      ]
     },
     "metadata": {},
     "execution_count": 5
    }
   ],
   "source": [
    "#Now we'll do grid search cross validation to look for the best hyperparameters for a decision tree classifier\n",
    "from sklearn.model_selection import GridSearchCV\n",
    "from sklearn.tree import DecisionTreeClassifier\n",
    "\n",
    "param_grid = {'max_leaf_nodes':[2,5,7,10]}\n",
    "DTreeClassifier = DecisionTreeClassifier()\n",
    "\n",
    "grid_search = GridSearchCV(DTreeClassifier, param_grid)\n",
    "\n",
    "grid_search.fit(X_train, y_train)\n"
   ]
  },
  {
   "cell_type": "code",
   "execution_count": 6,
   "metadata": {},
   "outputs": [
    {
     "output_type": "execute_result",
     "data": {
      "text/plain": [
       "0.36239941133138354"
      ]
     },
     "metadata": {},
     "execution_count": 6
    }
   ],
   "source": [
    "from sklearn.metrics import mean_squared_error\n",
    "import numpy as np\n",
    "\n",
    "y_predicted = grid_search.predict(X_train)\n",
    "mse = mean_squared_error(y_train, y_predicted)\n",
    "np.sqrt(mse)\n"
   ]
  },
  {
   "cell_type": "code",
   "execution_count": 7,
   "metadata": {},
   "outputs": [
    {
     "output_type": "execute_result",
     "data": {
      "text/plain": [
       "0.8686666666666667"
      ]
     },
     "metadata": {},
     "execution_count": 7
    }
   ],
   "source": [
    "from sklearn.metrics import accuracy_score\n",
    "\n",
    "accuracy_score(y_train,y_predicted)"
   ]
  },
  {
   "source": [
    "## Now grow a forest"
   ],
   "cell_type": "markdown",
   "metadata": {}
  },
  {
   "cell_type": "code",
   "execution_count": 12,
   "metadata": {},
   "outputs": [],
   "source": [
    "#We'll generate 1000 subsets first:\n",
    "from sklearn.model_selection import ShuffleSplit\n",
    "\n",
    "sp = ShuffleSplit(n_splits=1000, test_size= len(X_train)-100)\n",
    "subsets = []\n",
    "\n",
    "for train_index,test_index in sp.split(X_train):\n",
    "    subset_X = X_train[train_index]\n",
    "    subset_y = y_train[train_index]\n",
    "\n",
    "    subsets.append((subset_X,subset_y))\n"
   ]
  }
 ]
}