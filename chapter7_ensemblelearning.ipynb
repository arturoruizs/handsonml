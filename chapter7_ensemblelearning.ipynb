{
 "metadata": {
  "language_info": {
   "codemirror_mode": {
    "name": "ipython",
    "version": 3
   },
   "file_extension": ".py",
   "mimetype": "text/x-python",
   "name": "python",
   "nbconvert_exporter": "python",
   "pygments_lexer": "ipython3",
   "version": "3.8.5-final"
  },
  "orig_nbformat": 2,
  "kernelspec": {
   "name": "python3",
   "display_name": "Python 3",
   "language": "python"
  }
 },
 "nbformat": 4,
 "nbformat_minor": 2,
 "cells": [
  {
   "source": [
    "# Exercise 8"
   ],
   "cell_type": "markdown",
   "metadata": {}
  },
  {
   "source": [
    "## Load the MNIST data and split it into a training set, a validation set, and a test set (e.g., use 50,000 instances for training, 10,000 for validation, and 10,000 for testing"
   ],
   "cell_type": "markdown",
   "metadata": {}
  },
  {
   "cell_type": "code",
   "execution_count": 1,
   "metadata": {},
   "outputs": [],
   "source": [
    "from sklearn.datasets import fetch_openml\n",
    "\n",
    "mnist = fetch_openml('mnist_784', version = 1)\n",
    "X,y = mnist['data'],mnist['target']\n"
   ]
  },
  {
   "cell_type": "code",
   "execution_count": 2,
   "metadata": {},
   "outputs": [
    {
     "output_type": "execute_result",
     "data": {
      "text/plain": [
       "(70000, 784)"
      ]
     },
     "metadata": {},
     "execution_count": 2
    }
   ],
   "source": [
    "import numpy as np \n",
    "np.shape(X)"
   ]
  },
  {
   "cell_type": "code",
   "execution_count": 3,
   "metadata": {},
   "outputs": [
    {
     "output_type": "execute_result",
     "data": {
      "text/plain": [
       "(array([[0., 0., 0., ..., 0., 0., 0.],\n",
       "        [0., 0., 0., ..., 0., 0., 0.],\n",
       "        [0., 0., 0., ..., 0., 0., 0.]]),\n",
       " array([[0., 0., 0., ..., 0., 0., 0.],\n",
       "        [0., 0., 0., ..., 0., 0., 0.],\n",
       "        [0., 0., 0., ..., 0., 0., 0.]]))"
      ]
     },
     "metadata": {},
     "execution_count": 3
    }
   ],
   "source": [
    "X[:3],X[3:6]"
   ]
  },
  {
   "cell_type": "code",
   "execution_count": 4,
   "metadata": {},
   "outputs": [],
   "source": [
    "X_train,y_train,X_val,y_val,X_test,y_test = X[:50000],y[:50000],X[50000:60000],y[50000:60000],X[60000:70000],y[60000:70000]"
   ]
  },
  {
   "source": [
    "## Then train various classifiers, such as a Random Forest classifier, an Extra-Trees classifier, and an SVM classifier"
   ],
   "cell_type": "markdown",
   "metadata": {}
  },
  {
   "source": [
    "Let's begin with a random forest classifier"
   ],
   "cell_type": "markdown",
   "metadata": {}
  },
  {
   "cell_type": "code",
   "execution_count": 5,
   "metadata": {},
   "outputs": [
    {
     "output_type": "execute_result",
     "data": {
      "text/plain": [
       "RandomForestClassifier(max_depth=3)"
      ]
     },
     "metadata": {},
     "execution_count": 5
    }
   ],
   "source": [
    "from sklearn.ensemble import RandomForestClassifier\n",
    "rnd_f = RandomForestClassifier(max_depth = 3)\n",
    "rnd_f.fit(X_train,y_train)"
   ]
  },
  {
   "source": [
    "Now the Extra-Trees classifier"
   ],
   "cell_type": "markdown",
   "metadata": {}
  },
  {
   "cell_type": "code",
   "execution_count": 6,
   "metadata": {},
   "outputs": [
    {
     "output_type": "execute_result",
     "data": {
      "text/plain": [
       "ExtraTreesClassifier(max_depth=3)"
      ]
     },
     "metadata": {},
     "execution_count": 6
    }
   ],
   "source": [
    "from sklearn.ensemble import ExtraTreesClassifier\n",
    "ext_trees = ExtraTreesClassifier(max_depth=3)\n",
    "ext_trees.fit(X_train,y_train)"
   ]
  },
  {
   "source": [
    "Finally the SVM classifier"
   ],
   "cell_type": "markdown",
   "metadata": {}
  },
  {
   "cell_type": "code",
   "execution_count": 7,
   "metadata": {},
   "outputs": [
    {
     "output_type": "execute_result",
     "data": {
      "text/plain": [
       "LinearSVC()"
      ]
     },
     "metadata": {},
     "execution_count": 7
    }
   ],
   "source": [
    "from sklearn.svm import LinearSVC \n",
    "svc = LinearSVC()\n",
    "svc.fit(X_train,y_train)"
   ]
  },
  {
   "source": [
    "## Next, try to combine them into an ensemble that outperforms each individual classifier on the validation set, using soft or hard voting"
   ],
   "cell_type": "markdown",
   "metadata": {}
  },
  {
   "source": [
    "Before combining the models into an ensemble, let's see how well they perform on the training set"
   ],
   "cell_type": "markdown",
   "metadata": {}
  },
  {
   "cell_type": "code",
   "execution_count": 8,
   "metadata": {},
   "outputs": [
    {
     "output_type": "stream",
     "name": "stdout",
     "text": [
      "The model RandomForestClassifier(max_depth=3) has an accuracy score of 0.73754\n",
      "The model ExtraTreesClassifier(max_depth=3) has an accuracy score of 0.71772\n",
      "The model LinearSVC() has an accuracy score of 0.87876\n"
     ]
    }
   ],
   "source": [
    "from sklearn.metrics import accuracy_score\n",
    "for model in [rnd_f, ext_trees, svc]:\n",
    "    prediction = model.predict(X_train)\n",
    "    print(f'The model {model} has an accuracy score of {accuracy_score(y_train,prediction)}')"
   ]
  },
  {
   "source": [
    "Certainly the models alone can't be good options to classify the data"
   ],
   "cell_type": "markdown",
   "metadata": {}
  },
  {
   "source": [
    "Let's see what happens with a Voting Classfier"
   ],
   "cell_type": "markdown",
   "metadata": {}
  },
  {
   "cell_type": "code",
   "execution_count": 12,
   "metadata": {},
   "outputs": [
    {
     "output_type": "execute_result",
     "data": {
      "text/plain": [
       "0.7402"
      ]
     },
     "metadata": {},
     "execution_count": 12
    }
   ],
   "source": [
    "#With a decision tree\n",
    "from sklearn.tree import DecisionTreeClassifier\n",
    "from sklearn.ensemble import VotingClassifier\n",
    "\n",
    "voting_estimators = [('rf',rnd_f),('et',ext_trees)]\n",
    "voting_clf = VotingClassifier(voting_estimators)\n",
    "\n",
    "voting_clf.fit(X_train, y_train)\n",
    "\n",
    "voting_clf.score(X_val,y_val)\n"
   ]
  },
  {
   "source": [
    "Compared to the scores obtained by Aurelien Geron, our model performs poorly. My guess is that it has to do with how I splitted the sets, because he didn't tune any hyperparameter and got way better scores."
   ],
   "cell_type": "markdown",
   "metadata": {}
  },
  {
   "source": [
    "Now on the test set:"
   ],
   "cell_type": "markdown",
   "metadata": {}
  },
  {
   "cell_type": "code",
   "execution_count": 13,
   "metadata": {},
   "outputs": [
    {
     "output_type": "execute_result",
     "data": {
      "text/plain": [
       "0.7314"
      ]
     },
     "metadata": {},
     "execution_count": 13
    }
   ],
   "source": [
    "voting_clf.score(X_test,y_test)\n"
   ]
  }
 ]
}